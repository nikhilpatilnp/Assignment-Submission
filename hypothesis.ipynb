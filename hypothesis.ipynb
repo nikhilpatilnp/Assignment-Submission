{
  "nbformat": 4,
  "nbformat_minor": 0,
  "metadata": {
    "colab": {
      "provenance": []
    },
    "kernelspec": {
      "name": "python3",
      "display_name": "Python 3"
    },
    "language_info": {
      "name": "python"
    }
  },
  "cells": [
    {
      "cell_type": "code",
      "source": [
        "import pandas as pd\n",
        "import numpy as np\n",
        "import statistics\n",
        "\n",
        "\n",
        "data = pd.read_csv(\"/content/Cutlets.csv\")\n",
        "print(data\n",
        "      )"
      ],
      "metadata": {
        "colab": {
          "base_uri": "https://localhost:8080/"
        },
        "id": "lz_NTiLr5_NP",
        "outputId": "1dfd6ee7-cba2-4dcc-cf1b-29b03c789b80"
      },
      "execution_count": 7,
      "outputs": [
        {
          "output_type": "stream",
          "name": "stdout",
          "text": [
            "    Unit A  Unit B\n",
            "0   6.8090  6.7703\n",
            "1   6.4376  7.5093\n",
            "2   6.9157  6.7300\n",
            "3   7.3012  6.7878\n",
            "4   7.4488  7.1522\n",
            "5   7.3871  6.8110\n",
            "6   6.8755  7.2212\n",
            "7   7.0621  6.6606\n",
            "8   6.6840  7.2402\n",
            "9   6.8236  7.0503\n",
            "10  7.3930  6.8810\n",
            "11  7.5169  7.4059\n",
            "12  6.9246  6.7652\n",
            "13  6.9256  6.0380\n",
            "14  6.5797  7.1581\n",
            "15  6.8394  7.0240\n",
            "16  6.5970  6.6672\n",
            "17  7.2705  7.4314\n",
            "18  7.2828  7.3070\n",
            "19  7.3495  6.7478\n",
            "20  6.9438  6.8889\n",
            "21  7.1560  7.4220\n",
            "22  6.5341  6.5217\n",
            "23  7.2854  7.1688\n",
            "24  6.9952  6.7594\n",
            "25  6.8568  6.9399\n",
            "26  7.2163  7.0133\n",
            "27  6.6801  6.9182\n",
            "28  6.9431  6.3346\n",
            "29  7.0852  7.5459\n",
            "30  6.7794  7.0992\n",
            "31  7.2783  7.1180\n",
            "32  7.1561  6.6965\n",
            "33  7.3943  6.5780\n",
            "34  6.9405  7.3875\n"
          ]
        }
      ]
    },
    {
      "cell_type": "code",
      "source": [],
      "metadata": {
        "id": "3tsM9cyK8bM0"
      },
      "execution_count": null,
      "outputs": []
    },
    {
      "cell_type": "code",
      "source": [
        "t_statistic, p_value = stats.ttest_ind(data['Unit A'], data['Unit B'])\n",
        "\n",
        "# Set the significance level\n",
        "alpha = 0.05\n",
        "\n",
        "# Determine the conclusion\n",
        "if p_value < alpha:\n",
        "    conclusion = \"Reject the null hypothesis. There is a significant difference between Unit A and Unit B.\"\n",
        "else:\n",
        "    conclusion = \"Fail to reject the null hypothesis. There is no significant difference between Unit A and Unit B.\"\n",
        "\n",
        "# Print the results\n",
        "print(\"Two-Sample T-Test Results:\")\n",
        "print(\"Test Statistic:\", t_statistic)\n",
        "print(\"p-value:\", p_value)\n",
        "print(\"Conclusion:\", conclusion)"
      ],
      "metadata": {
        "colab": {
          "base_uri": "https://localhost:8080/"
        },
        "id": "smcB7rta7fo8",
        "outputId": "7ccf8eeb-0f83-4b08-ab12-c2da65224532"
      },
      "execution_count": 9,
      "outputs": [
        {
          "output_type": "stream",
          "name": "stdout",
          "text": [
            "Two-Sample T-Test Results:\n",
            "Test Statistic: 0.7228688704678063\n",
            "p-value: 0.4722394724599501\n",
            "Conclusion: Fail to reject the null hypothesis. There is no significant difference between Unit A and Unit B.\n"
          ]
        }
      ]
    },
    {
      "cell_type": "code",
      "source": [
        "data = pd.read_csv(\"/content/Cutlets.csv\")\n",
        "print(data\n",
        "      )"
      ],
      "metadata": {
        "colab": {
          "base_uri": "https://localhost:8080/"
        },
        "id": "0KD_z3cG8dcH",
        "outputId": "b62c818c-493f-4787-dbe9-d1c8dd48dfa6"
      },
      "execution_count": 10,
      "outputs": [
        {
          "output_type": "stream",
          "name": "stdout",
          "text": [
            "    Unit A  Unit B\n",
            "0   6.8090  6.7703\n",
            "1   6.4376  7.5093\n",
            "2   6.9157  6.7300\n",
            "3   7.3012  6.7878\n",
            "4   7.4488  7.1522\n",
            "5   7.3871  6.8110\n",
            "6   6.8755  7.2212\n",
            "7   7.0621  6.6606\n",
            "8   6.6840  7.2402\n",
            "9   6.8236  7.0503\n",
            "10  7.3930  6.8810\n",
            "11  7.5169  7.4059\n",
            "12  6.9246  6.7652\n",
            "13  6.9256  6.0380\n",
            "14  6.5797  7.1581\n",
            "15  6.8394  7.0240\n",
            "16  6.5970  6.6672\n",
            "17  7.2705  7.4314\n",
            "18  7.2828  7.3070\n",
            "19  7.3495  6.7478\n",
            "20  6.9438  6.8889\n",
            "21  7.1560  7.4220\n",
            "22  6.5341  6.5217\n",
            "23  7.2854  7.1688\n",
            "24  6.9952  6.7594\n",
            "25  6.8568  6.9399\n",
            "26  7.2163  7.0133\n",
            "27  6.6801  6.9182\n",
            "28  6.9431  6.3346\n",
            "29  7.0852  7.5459\n",
            "30  6.7794  7.0992\n",
            "31  7.2783  7.1180\n",
            "32  7.1561  6.6965\n",
            "33  7.3943  6.5780\n",
            "34  6.9405  7.3875\n"
          ]
        }
      ]
    },
    {
      "cell_type": "code",
      "source": [
        "import pandas as pd\n",
        "from scipy import stats\n",
        "\n",
        "# Create a DataFrame with the given TAT data for each laboratory\n",
        "data = pd.DataFrame({\n",
        "    'Lab_A': [10, 12, 14, 11, 13],\n",
        "    'Lab_B': [15, 17, 16, 18, 14],\n",
        "    'Lab_C': [20, 22, 21, 19, 23],\n",
        "    'Lab_D': [25, 27, 26, 24, 28]\n",
        "})\n",
        "\n",
        "# Perform one-way ANOVA\n",
        "f_statistic, p_value = stats.f_oneway(data['Lab_A'], data['Lab_B'], data['Lab_C'], data['Lab_D'])\n",
        "\n",
        "# Set the significance level\n",
        "alpha = 0.05\n",
        "\n",
        "# Determine the conclusion\n",
        "if p_value < alpha:\n",
        "    conclusion = \"Reject the null hypothesis. There is a significant difference in average TAT among the laboratories.\"\n",
        "else:\n",
        "    conclusion = \"Fail to reject the null hypothesis. There is no significant difference in average TAT among the laboratories.\"\n",
        "\n",
        "# Print the results\n",
        "print(\"One-Way ANOVA Results:\")\n",
        "print(\"F-statistic:\", f_statistic)\n",
        "print(\"p-value:\", p_value)\n",
        "print(\"Conclusion:\", conclusion)\n"
      ],
      "metadata": {
        "colab": {
          "base_uri": "https://localhost:8080/"
        },
        "id": "Takh_T8i883Y",
        "outputId": "5d4c68cc-30d6-4864-fc4f-e7cd311b3e65"
      },
      "execution_count": 11,
      "outputs": [
        {
          "output_type": "stream",
          "name": "stdout",
          "text": [
            "One-Way ANOVA Results:\n",
            "F-statistic: 73.83333333333334\n",
            "p-value: 1.3733672640800533e-09\n",
            "Conclusion: Reject the null hypothesis. There is a significant difference in average TAT among the laboratories.\n"
          ]
        }
      ]
    },
    {
      "cell_type": "code",
      "source": [
        "data = pd.read_csv(\"/content/Costomer+OrderForm.csv\")\n",
        "print(data\n",
        "      )"
      ],
      "metadata": {
        "colab": {
          "base_uri": "https://localhost:8080/"
        },
        "id": "oA90kKDO9JXZ",
        "outputId": "907226dc-e5b7-4fd6-d0bd-82dace34ee94"
      },
      "execution_count": 12,
      "outputs": [
        {
          "output_type": "stream",
          "name": "stdout",
          "text": [
            "    Phillippines   Indonesia       Malta       India\n",
            "0     Error Free  Error Free   Defective  Error Free\n",
            "1     Error Free  Error Free  Error Free   Defective\n",
            "2     Error Free   Defective   Defective  Error Free\n",
            "3     Error Free  Error Free  Error Free  Error Free\n",
            "4     Error Free  Error Free   Defective  Error Free\n",
            "..           ...         ...         ...         ...\n",
            "295   Error Free  Error Free  Error Free  Error Free\n",
            "296   Error Free  Error Free  Error Free  Error Free\n",
            "297   Error Free  Error Free   Defective  Error Free\n",
            "298   Error Free  Error Free  Error Free  Error Free\n",
            "299   Error Free   Defective   Defective  Error Free\n",
            "\n",
            "[300 rows x 4 columns]\n"
          ]
        }
      ]
    },
    {
      "cell_type": "code",
      "source": [
        "import pandas as pd\n",
        "from scipy.stats import chi2_contingency\n",
        "\n",
        "# Create a DataFrame with the given data\n",
        "data = pd.DataFrame({\n",
        "    'Center': ['Phillippines', 'Indonesia', 'Malta', 'India'],\n",
        "    'Error_Status_1': ['Error Free', 'Error Free', 'Error Free', 'Error Free'],\n",
        "    'Error_Status_2': ['Error Free', 'Error Free', 'Defective', 'Error Free'],\n",
        "    'Error_Status_3': ['Defective', 'Error Free', 'Defective', 'Error Free'],\n",
        "    'Error_Status_4': ['Error Free', 'Defective', 'Error Free', 'Error Free'],\n",
        "    'Error_Status_5': ['Error Free', 'Error Free', 'Defective', 'Error Free'],\n",
        "    # Continue adding more rows as needed\n",
        "})\n",
        "\n",
        "# Create a contingency table (cross-tabulation)\n",
        "contingency_table = pd.crosstab(data['Center'], data['Error_Status_1'], margins=True)\n",
        "\n",
        "# Perform the chi-squared test for independence\n",
        "chi2, p, _, _ = chi2_contingency(contingency_table)\n",
        "\n",
        "# Set the significance level\n",
        "alpha = 0.05\n",
        "\n",
        "# Determine the conclusion\n",
        "if p < alpha:\n",
        "    conclusion = \"Reject the null hypothesis. There is a significant association between the center and defective orders.\"\n",
        "else:\n",
        "    conclusion = \"Fail to reject the null hypothesis. There is no significant association between the center and defective orders.\"\n",
        "\n",
        "# Print the results\n",
        "print(\"Chi-Squared Test Results:\")\n",
        "print(\"Chi-squared statistic:\", chi2)\n",
        "print(\"p-value:\", p)\n",
        "print(\"Conclusion:\", conclusion)\n"
      ],
      "metadata": {
        "colab": {
          "base_uri": "https://localhost:8080/"
        },
        "id": "N-EM4iys9lgv",
        "outputId": "cd16a039-8041-4c20-9d50-1fff42cc3a60"
      },
      "execution_count": 14,
      "outputs": [
        {
          "output_type": "stream",
          "name": "stdout",
          "text": [
            "Chi-Squared Test Results:\n",
            "Chi-squared statistic: 0.0\n",
            "p-value: 1.0\n",
            "Conclusion: Fail to reject the null hypothesis. There is no significant association between the center and defective orders.\n"
          ]
        }
      ]
    }
  ]
}